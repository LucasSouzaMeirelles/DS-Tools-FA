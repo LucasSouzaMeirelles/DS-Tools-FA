{
 "cells": [
  {
   "cell_type": "markdown",
   "id": "8089a386-481c-4514-bb84-3e5c96ada4fa",
   "metadata": {},
   "source": [
    "# Data Science Tools and Ecosystem"
   ]
  },
  {
   "cell_type": "markdown",
   "id": "05a9b539-e7a6-43e0-8a7f-3b9abb0f036a",
   "metadata": {},
   "source": [
    "## Author:\n",
    "Lucas de Souza Meirelles"
   ]
  },
  {
   "cell_type": "markdown",
   "id": "765ae069-7752-44ee-85ca-d25ad9bc557e",
   "metadata": {},
   "source": [
    "In this notebook, Data Science Tools and Ecosystem are summarized."
   ]
  },
  {
   "cell_type": "markdown",
   "id": "aa70eb5e-e670-4056-94e8-4c7de7db94f8",
   "metadata": {},
   "source": [
    "**Objectives:**\n",
    "- List popular languages for data science\n",
    "- List popular libraries\n",
    "- List popular IDE's for data science"
   ]
  },
  {
   "cell_type": "markdown",
   "id": "b5651304-c70a-4dc8-bd21-93f5a70fa867",
   "metadata": {},
   "source": [
    "Some of the popular languages that Data Scientists use are:\n",
    "1. Python\n",
    "2. R\n",
    "3. Julia"
   ]
  },
  {
   "cell_type": "markdown",
   "id": "a3afce70-d984-415c-9bc4-f82ad8b1e8ae",
   "metadata": {},
   "source": [
    "Some of the commonly used libraries used by Data Scientists include:\n",
    "1. Scipy\n",
    "2. Matplotlib\n",
    "3. Scikit-learn"
   ]
  },
  {
   "cell_type": "markdown",
   "id": "acc50eb4-f14f-41cb-a2a5-c1a57a6c0345",
   "metadata": {},
   "source": [
    "| Data Science Tools |\n",
    "|--------------|\n",
    "| Jupyter Lab |\n",
    "| Rstudio |\n",
    "| Anaconda |"
   ]
  },
  {
   "cell_type": "markdown",
   "id": "c4d413a9-3bbf-42c5-9a71-a3f568e5e243",
   "metadata": {},
   "source": [
    "### Below are a few examples of evaluating arithmetic expressions in Python\n",
    "- 10 + 10*10 - 10/10\n",
    "- 2*(2 + 2)/2"
   ]
  },
  {
   "cell_type": "code",
   "execution_count": 1,
   "id": "56fd5440-3bee-4efb-b878-965da7db2ca4",
   "metadata": {},
   "outputs": [
    {
     "data": {
      "text/plain": [
       "17"
      ]
     },
     "execution_count": 1,
     "metadata": {},
     "output_type": "execute_result"
    }
   ],
   "source": [
    "#This a simple arithmetic expression to mutiply then add integers\n",
    "(3*4)+5"
   ]
  },
  {
   "cell_type": "code",
   "execution_count": 3,
   "id": "8dad4459-c344-4cff-82ae-93c064f81a91",
   "metadata": {},
   "outputs": [
    {
     "data": {
      "text/plain": [
       "3.3333333333333335"
      ]
     },
     "execution_count": 3,
     "metadata": {},
     "output_type": "execute_result"
    }
   ],
   "source": [
    "#This will convert 200 minutes to hours by diving by 60\n",
    "200/60"
   ]
  }
 ],
 "metadata": {
  "kernelspec": {
   "display_name": "Python 3 (ipykernel)",
   "language": "python",
   "name": "python3"
  },
  "language_info": {
   "codemirror_mode": {
    "name": "ipython",
    "version": 3
   },
   "file_extension": ".py",
   "mimetype": "text/x-python",
   "name": "python",
   "nbconvert_exporter": "python",
   "pygments_lexer": "ipython3",
   "version": "3.12.2"
  }
 },
 "nbformat": 4,
 "nbformat_minor": 5
}
